{
  "nbformat": 4,
  "nbformat_minor": 0,
  "metadata": {
    "colab": {
      "provenance": [],
      "authorship_tag": "ABX9TyNm+L0evqRO70FPui4RLcq9",
      "include_colab_link": true
    },
    "kernelspec": {
      "name": "python3",
      "display_name": "Python 3"
    },
    "language_info": {
      "name": "python"
    }
  },
  "cells": [
    {
      "cell_type": "markdown",
      "metadata": {
        "id": "view-in-github",
        "colab_type": "text"
      },
      "source": [
        "<a href=\"https://colab.research.google.com/github/profandersonvanin01/doencas_coracao/blob/main/Exemplo_Analise_Dados.ipynb\" target=\"_parent\"><img src=\"https://colab.research.google.com/assets/colab-badge.svg\" alt=\"Open In Colab\"/></a>"
      ]
    },
    {
      "cell_type": "markdown",
      "source": [
        "# **EXEMPLO DE ANÁLISE DE DADOS**"
      ],
      "metadata": {
        "id": "9k6qM3VAwIDv"
      }
    },
    {
      "cell_type": "markdown",
      "source": [
        "- Análise de Dados baseada em: https://www.kaggle.com/competitions/heart-disease-uci/data"
      ],
      "metadata": {
        "id": "_Bijrzc2v8I2"
      }
    },
    {
      "cell_type": "markdown",
      "source": [
        "**Os dados**\n",
        "\n",
        "O conjunto de dados chamado \"**`Cleveland Heart Disease Dataset`**\" vem de um estudo conduzido em 1988 e se origina do UCI Machine Learning Repository. O conjunto de dados foi dividido em dois: um conjunto de treinamento e um conjunto de teste. A tarefa é obter o melhor preditor e adivinhar se um paciente tem uma doença cardíaca."
      ],
      "metadata": {
        "id": "wP_V_4Ozxhjt"
      }
    },
    {
      "cell_type": "markdown",
      "source": [
        "**Descrição do conjunto de dados**\n",
        "\n",
        "Existem 14 colunas:\n",
        "\n",
        "- **idade** ==> A idade do paciente.\n",
        "- **sexo** ==> O gênero do paciente. (1 = masculino, 0 = feminino).\n",
        "- **cp** ==> Tipo de dor no peito. (1 = angina típica, 2 = angina atípica, 3 = dor não anginosa, 4 = assintótica).\n",
        "- **trestbps** ==> Pressão arterial em repouso em mmHg.\n",
        "- **col** ==> Colesterol sérico em mg/dl.\n",
        "- **fbs** ==> Glicemia em jejum. (1 = glicemia em jejum é maior que 120mg/dl, 0 = caso contrário).\n",
        "- **restecg** ==> Resultados eletrocardiográficos em repouso (0 = normal, 1 = anormalidade da onda ST-T, 2 = hipertrofia ventricular esquerda).\n",
        "- **thalach** ==> Frequência cardíaca máxima alcançada.\n",
        "- **exang** ==> Angina induzida por exercício (1 = sim, 0 = não).\n",
        "- **oldpeak** ==> Depressão do segmento ST induzida pelo exercício em relação ao repouso.\n",
        "- **declive** ==> Segmento ST de pico de exercício (1 = ascendente, 2 = plano, 3 = descendente).\n",
        "- **ca** ==> Número de vasos principais (0–3) coloridos pela fluorosopia.\n",
        "Talassemia (3 = normal, 6 = defeito fixo, 7 = defeito reversível).\n",
        "- **num** ==> Diagnóstico de doença cardíaca (0 = ausência, 1, 2, 3, 4 = presente)."
      ],
      "metadata": {
        "id": "CeJ4u-PTwTZd"
      }
    },
    {
      "cell_type": "markdown",
      "source": [],
      "metadata": {
        "id": "Vd6sWekgwuH3"
      }
    }
  ]
}